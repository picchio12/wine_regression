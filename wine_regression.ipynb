{
 "cells": [
  {
   "attachments": {},
   "cell_type": "markdown",
   "metadata": {},
   "source": [
    "# Previsione della qualità di vini sulla base delle loro caratteristiche chimiche\n",
    "\n",
    "Progetto di Programmazione di Applicazioni Data Intensive a.a. 2022/2023\n",
    "\n",
    "Studente: Davide Picchiotti (davide.picchiotti@studio.unibo.it)\n",
    "\n",
    "\n",
    "Lo scopo del progetto proposto è quello di addestrare un modello che sia in grado di predire un punteggio da 1 a 10 assegnato ad alcuni vini rossi Portoghesi, sulla base delle loro caratteristiche chimiche (solfati presenti, pH ecc).\n",
    "Inizialmente il progetto doveva trovare la regressione, ma come vedremo alla fine, sarà necessario un cambio di approccio per avere dei risultati accettabili."
   ]
  },
  {
   "attachments": {},
   "cell_type": "markdown",
   "metadata": {},
   "source": [
    "Importiamo le librerie standard (pandas per la gestione dei dati, matplotlib e seaborn per i grafici)"
   ]
  },
  {
   "cell_type": "code",
   "execution_count": 2,
   "metadata": {
    "collapsed": true,
    "pycharm": {
     "is_executing": false
    }
   },
   "outputs": [],
   "source": [
    "import pandas\n",
    "import matplotlib.pyplot as plt\n",
    "import seaborn as sns\n",
    "\n",
    "%matplotlib inline"
   ]
  },
  {
   "attachments": {},
   "cell_type": "markdown",
   "metadata": {},
   "source": [
    "## Caricamento e descrizione del dataset\n",
    "Carichiamo i dati da un file .csv e per comodità rinominiamo alcune colonne, rimuovendo gli spazi"
   ]
  },
  {
   "cell_type": "code",
   "execution_count": 196,
   "metadata": {
    "collapsed": false,
    "pycharm": {
     "is_executing": false,
     "name": "#%%\n"
    }
   },
   "outputs": [
    {
     "data": {
      "text/html": [
       "<div>\n",
       "<style scoped>\n",
       "    .dataframe tbody tr th:only-of-type {\n",
       "        vertical-align: middle;\n",
       "    }\n",
       "\n",
       "    .dataframe tbody tr th {\n",
       "        vertical-align: top;\n",
       "    }\n",
       "\n",
       "    .dataframe thead th {\n",
       "        text-align: right;\n",
       "    }\n",
       "</style>\n",
       "<table border=\"1\" class=\"dataframe\">\n",
       "  <thead>\n",
       "    <tr style=\"text-align: right;\">\n",
       "      <th></th>\n",
       "      <th>fixed_acidity</th>\n",
       "      <th>volatile_acidity</th>\n",
       "      <th>citric_acid</th>\n",
       "      <th>residual_sugar</th>\n",
       "      <th>chlorides</th>\n",
       "      <th>free_sulfur_dioxide</th>\n",
       "      <th>total_sulfur_dioxide</th>\n",
       "      <th>density</th>\n",
       "      <th>pH</th>\n",
       "      <th>sulphates</th>\n",
       "      <th>alcohol</th>\n",
       "      <th>quality</th>\n",
       "    </tr>\n",
       "  </thead>\n",
       "  <tbody>\n",
       "    <tr>\n",
       "      <th>0</th>\n",
       "      <td>7.4</td>\n",
       "      <td>0.70</td>\n",
       "      <td>0.00</td>\n",
       "      <td>1.9</td>\n",
       "      <td>0.076</td>\n",
       "      <td>11.0</td>\n",
       "      <td>34.0</td>\n",
       "      <td>0.9978</td>\n",
       "      <td>3.51</td>\n",
       "      <td>0.56</td>\n",
       "      <td>9.4</td>\n",
       "      <td>5</td>\n",
       "    </tr>\n",
       "    <tr>\n",
       "      <th>1</th>\n",
       "      <td>7.8</td>\n",
       "      <td>0.88</td>\n",
       "      <td>0.00</td>\n",
       "      <td>2.6</td>\n",
       "      <td>0.098</td>\n",
       "      <td>25.0</td>\n",
       "      <td>67.0</td>\n",
       "      <td>0.9968</td>\n",
       "      <td>3.20</td>\n",
       "      <td>0.68</td>\n",
       "      <td>9.8</td>\n",
       "      <td>5</td>\n",
       "    </tr>\n",
       "    <tr>\n",
       "      <th>2</th>\n",
       "      <td>7.8</td>\n",
       "      <td>0.76</td>\n",
       "      <td>0.04</td>\n",
       "      <td>2.3</td>\n",
       "      <td>0.092</td>\n",
       "      <td>15.0</td>\n",
       "      <td>54.0</td>\n",
       "      <td>0.9970</td>\n",
       "      <td>3.26</td>\n",
       "      <td>0.65</td>\n",
       "      <td>9.8</td>\n",
       "      <td>5</td>\n",
       "    </tr>\n",
       "  </tbody>\n",
       "</table>\n",
       "</div>"
      ],
      "text/plain": [
       "   fixed_acidity  volatile_acidity  citric_acid  residual_sugar  chlorides  \\\n",
       "0            7.4              0.70         0.00             1.9      0.076   \n",
       "1            7.8              0.88         0.00             2.6      0.098   \n",
       "2            7.8              0.76         0.04             2.3      0.092   \n",
       "\n",
       "   free_sulfur_dioxide  total_sulfur_dioxide  density    pH  sulphates  \\\n",
       "0                 11.0                  34.0   0.9978  3.51       0.56   \n",
       "1                 25.0                  67.0   0.9968  3.20       0.68   \n",
       "2                 15.0                  54.0   0.9970  3.26       0.65   \n",
       "\n",
       "   alcohol  quality  \n",
       "0      9.4        5  \n",
       "1      9.8        5  \n",
       "2      9.8        5  "
      ]
     },
     "execution_count": 196,
     "metadata": {},
     "output_type": "execute_result"
    }
   ],
   "source": [
    "data = pandas.read_csv(\"winequality-red.csv\")\n",
    "data = data.rename(columns={\"fixed acidity\":\"fixed_acidity\",\n",
    "                            \"volatile acidity\":\"volatile_acidity\",\n",
    "                            \"citric acid\":\"citric_acid\",\n",
    "                            \"residual sugar\":\"residual_sugar\",\n",
    "                            \"free sulfur dioxide\":\"free_sulfur_dioxide\",\n",
    "                            \"total sulfur dioxide\":\"total_sulfur_dioxide\"})\n",
    "\n",
    "data.head(3)"
   ]
  },
  {
   "attachments": {},
   "cell_type": "markdown",
   "metadata": {},
   "source": [
    "Di seguito i significati delle colonne, estratti direttamente dalla fonte del dataset (https://www.kaggle.com/datasets/uciml/red-wine-quality-cortez-et-al-2009)\n",
    "\n",
    "- fixed acidity: most acids involved with wine or fixed or nonvolatile (do not evaporate readily)\n",
    "- volatile acidity: the amount of acetic acid in wine, which at too high of levels can lead to an unpleasant, vinegar taste\n",
    "- citric acid: found in small quantities, citric acid can add 'freshness' and flavor to wines\n",
    "- residual sugar: the amount of sugar remaining after fermentation stops, it's rare to find wines with less than 1 gram/liter and wines with greater than 45 grams/liter are considered sweet\n",
    "- chlorides: the amount of salt in the wine\n",
    "- free sulfur dioxide: the free form of SO2 exists in equilibrium between molecular SO2 (as a dissolved gas) and bisulfite ion; it prevents microbial growth and the oxidation of wine\n",
    "- total sulfur dioxide: amount of free and bound forms of S02; in low concentrations, SO2 is mostly undetectable in wine, but at free SO2 concentrations over 50 ppm, SO2 becomes evident in the nose and taste of wine\n",
    "- density: the density of water is close to that of water depending on the percent alcohol and sugar content\n",
    "- pH: describes how acidic or basic a wine is on a scale from 0 (very acidic) to 14 (very basic); most wines are between 3-4 on the pH scale\n",
    "- sulphates: a wine additive which can contribute to sulfur dioxide gas (S02) levels, wich acts as an antimicrobial and antioxidant\n",
    "- alcohol: the percent alcohol content of the wine\n",
    "- quality: based on sensory data, score between 0 and 10\n",
    "\n",
    "La nostra variabile target è 'quality'."
   ]
  },
  {
   "cell_type": "code",
   "execution_count": 197,
   "metadata": {
    "collapsed": false,
    "pycharm": {
     "is_executing": false,
     "name": "#%%\n"
    }
   },
   "outputs": [
    {
     "name": "stdout",
     "output_type": "stream",
     "text": [
      "<class 'pandas.core.frame.DataFrame'>\n",
      "RangeIndex: 1599 entries, 0 to 1598\n",
      "Data columns (total 12 columns):\n",
      " #   Column                Non-Null Count  Dtype  \n",
      "---  ------                --------------  -----  \n",
      " 0   fixed_acidity         1599 non-null   float64\n",
      " 1   volatile_acidity      1599 non-null   float64\n",
      " 2   citric_acid           1599 non-null   float64\n",
      " 3   residual_sugar        1599 non-null   float64\n",
      " 4   chlorides             1599 non-null   float64\n",
      " 5   free_sulfur_dioxide   1599 non-null   float64\n",
      " 6   total_sulfur_dioxide  1599 non-null   float64\n",
      " 7   density               1599 non-null   float64\n",
      " 8   pH                    1599 non-null   float64\n",
      " 9   sulphates             1599 non-null   float64\n",
      " 10  alcohol               1599 non-null   float64\n",
      " 11  quality               1599 non-null   int64  \n",
      "dtypes: float64(11), int64(1)\n",
      "memory usage: 150.0 KB\n"
     ]
    }
   ],
   "source": [
    "data.info()"
   ]
  },
  {
   "attachments": {},
   "cell_type": "markdown",
   "metadata": {},
   "source": [
    "Come possiamo evincere dall'output di info(), il dataset non ha record nulli e conta 1599 istanze."
   ]
  },
  {
   "attachments": {},
   "cell_type": "markdown",
   "metadata": {},
   "source": [
    "Definiamo qua una funzione per il disegno dei grafici che ci servirà più avanti."
   ]
  },
  {
   "cell_type": "code",
   "execution_count": 5,
   "metadata": {
    "collapsed": false,
    "pycharm": {
     "is_executing": false,
     "name": "#%%\n"
    }
   },
   "outputs": [],
   "source": [
    "def boxplot_n_histogram(dataset, column):\n",
    "    fig, axes = plt.subplots(nrows=1, ncols=2, sharex=False, sharey=False, figsize=(15, 7))\n",
    "    axes[0].boxplot(dataset[column], showmeans=True)\n",
    "    axes[1].hist(dataset[column])\n",
    "    \n",
    "    axes[0].set_title(column)\n",
    "    axes[1].set_title(column)"
   ]
  },
  {
   "attachments": {},
   "cell_type": "markdown",
   "metadata": {},
   "source": [
    "## Esplorazione ed analisi dei dati"
   ]
  },
  {
   "attachments": {},
   "cell_type": "markdown",
   "metadata": {},
   "source": [
    "Analizziamo la distribuzione della variabile target"
   ]
  },
  {
   "cell_type": "code",
   "execution_count": 199,
   "metadata": {},
   "outputs": [
    {
     "data": {
      "image/png": "[encoded data removed]",
      "text/plain": [
       "<Figure size 1080x504 with 2 Axes>"
      ]
     },
     "metadata": {
      "needs_background": "light"
     },
     "output_type": "display_data"
    }
   ],
   "source": [
    "boxplot_n_histogram(data, \"quality\")"
   ]
  },
  {
   "cell_type": "code",
   "execution_count": null,
   "metadata": {},
   "outputs": [
    {
     "data": {
      "text/plain": [
       "count    1599.000000\n",
       "mean        5.636023\n",
       "std         0.807569\n",
       "min         3.000000\n",
       "25%         5.000000\n",
       "50%         6.000000\n",
       "75%         6.000000\n",
       "max         8.000000\n",
       "Name: quality, dtype: float64"
      ]
     },
     "metadata": {},
     "output_type": "display_data"
    }
   ],
   "source": [
    "data[\"quality\"].describe()"
   ]
  },
  {
   "attachments": {},
   "cell_type": "markdown",
   "metadata": {},
   "source": [
    "Dai grafici e dall'output di describe(), notiamo quanto la distribuzione di 'quality' sia sbilanciata.\n",
    "Questo potrebbe dare alcuni problemi nell'addestramento dei modelli, è bene tenerlo a mente.\n",
    "In particolare, buona parte dei vini giudicati nel dataset hanno ricevuto un punteggio di 5 o 6."
   ]
  },
  {
   "attachments": {},
   "cell_type": "markdown",
   "metadata": {},
   "source": [
    "Analizziamo alcuni scatter plot di features vs. quality, per vedere se ne risulta qualche osservazione interessante."
   ]
  },
  {
   "cell_type": "code",
   "execution_count": 20,
   "metadata": {
    "collapsed": false,
    "pycharm": {
     "is_executing": false,
     "name": "#%%\n"
    }
   },
   "outputs": [
    {
     "data": {
      "text/plain": [
       "<matplotlib.collections.PathCollection at 0x1828dc89af0>"
      ]
     },
     "execution_count": 20,
     "metadata": {},
     "output_type": "execute_result"
    },
    {
     "data": {
      "image/png": "[encoded data removed]",
      "text/plain": [
       "<Figure size 432x288 with 1 Axes>"
      ]
     },
     "metadata": {
      "needs_background": "light"
     },
     "output_type": "display_data"
    }
   ],
   "source": [
    "plt.scatter(data[\"volatile_acidity\"], data[\"quality\"], alpha=0.25)"
   ]
  },
  {
   "cell_type": "code",
   "execution_count": 201,
   "metadata": {},
   "outputs": [
    {
     "data": {
      "text/plain": [
       "count    1599.000000\n",
       "mean        0.527821\n",
       "std         0.179060\n",
       "min         0.120000\n",
       "25%         0.390000\n",
       "50%         0.520000\n",
       "75%         0.640000\n",
       "max         1.580000\n",
       "Name: volatile_acidity, dtype: float64"
      ]
     },
     "execution_count": 201,
     "metadata": {},
     "output_type": "execute_result"
    }
   ],
   "source": [
    "data[\"volatile_acidity\"].describe()"
   ]
  },
  {
   "attachments": {},
   "cell_type": "markdown",
   "metadata": {},
   "source": [
    "Possiamo notare come all'aumentare della qualità, il range di valori di 'volatile_acidity' si restringe."
   ]
  },
  {
   "cell_type": "code",
   "execution_count": 22,
   "metadata": {
    "collapsed": false,
    "pycharm": {
     "is_executing": false,
     "name": "#%%\n"
    }
   },
   "outputs": [
    {
     "data": {
      "text/plain": [
       "<matplotlib.collections.PathCollection at 0x1828ddc3f40>"
      ]
     },
     "execution_count": 22,
     "metadata": {},
     "output_type": "execute_result"
    },
    {
     "data": {
      "image/png": "[encoded data removed]",
      "text/plain": [
       "<Figure size 432x288 with 1 Axes>"
      ]
     },
     "metadata": {
      "needs_background": "light"
     },
     "output_type": "display_data"
    }
   ],
   "source": [
    "plt.scatter(data[\"residual_sugar\"], data[\"quality\"], alpha=0.25)"
   ]
  },
  {
   "cell_type": "code",
   "execution_count": 202,
   "metadata": {},
   "outputs": [
    {
     "data": {
      "text/plain": [
       "count    1599.000000\n",
       "mean        2.538806\n",
       "std         1.409928\n",
       "min         0.900000\n",
       "25%         1.900000\n",
       "50%         2.200000\n",
       "75%         2.600000\n",
       "max        15.500000\n",
       "Name: residual_sugar, dtype: float64"
      ]
     },
     "execution_count": 202,
     "metadata": {},
     "output_type": "execute_result"
    }
   ],
   "source": [
    "data[\"residual_sugar\"].describe()"
   ]
  },
  {
   "attachments": {},
   "cell_type": "markdown",
   "metadata": {},
   "source": [
    "Possiamo anche notare come al crescere della qualità i vini siano tendenzialmente meno dolci."
   ]
  },
  {
   "cell_type": "code",
   "execution_count": 25,
   "metadata": {
    "collapsed": false,
    "pycharm": {
     "is_executing": false,
     "name": "#%%\n"
    }
   },
   "outputs": [
    {
     "data": {
      "text/plain": [
       "<matplotlib.collections.PathCollection at 0x1828d5d40a0>"
      ]
     },
     "execution_count": 25,
     "metadata": {},
     "output_type": "execute_result"
    },
    {
     "data": {
      "image/png": "[encoded data removed]",
      "text/plain": [
       "<Figure size 432x288 with 1 Axes>"
      ]
     },
     "metadata": {
      "needs_background": "light"
     },
     "output_type": "display_data"
    }
   ],
   "source": [
    "plt.scatter(data[\"total_sulfur_dioxide\"], data[\"quality\"], alpha=0.25)"
   ]
  },
  {
   "attachments": {},
   "cell_type": "markdown",
   "metadata": {},
   "source": [
    "Al crescere della qualità diminuiscono anche i livelli di anidride solforosa."
   ]
  },
  {
   "cell_type": "code",
   "execution_count": 28,
   "metadata": {
    "collapsed": false,
    "pycharm": {
     "is_executing": false,
     "name": "#%%\n"
    }
   },
   "outputs": [
    {
     "data": {
      "text/plain": [
       "<matplotlib.collections.PathCollection at 0x1828d41e160>"
      ]
     },
     "execution_count": 28,
     "metadata": {},
     "output_type": "execute_result"
    },
    {
     "data": {
      "image/png": "[encoded data removed]",
      "text/plain": [
       "<Figure size 432x288 with 1 Axes>"
      ]
     },
     "metadata": {
      "needs_background": "light"
     },
     "output_type": "display_data"
    }
   ],
   "source": [
    "plt.scatter(data[\"sulphates\"], data[\"quality\"], alpha=0.25)"
   ]
  },
  {
   "attachments": {},
   "cell_type": "markdown",
   "metadata": {},
   "source": [
    "All'aumentare dei solfati la qualità del vino sembra aumentare."
   ]
  },
  {
   "attachments": {},
   "cell_type": "markdown",
   "metadata": {},
   "source": [
    "Stampiamo una matrice di correlazione per capire quali sono le variabili più correlate alla variabile target, oltre a capire se c'è collinearità tra la variabili indipendenti"
   ]
  },
  {
   "cell_type": "code",
   "execution_count": 29,
   "metadata": {
    "collapsed": false,
    "pycharm": {
     "is_executing": false,
     "name": "#%%\n"
    }
   },
   "outputs": [
    {
     "data": {
      "text/plain": [
       "<AxesSubplot:>"
      ]
     },
     "execution_count": 29,
     "metadata": {},
     "output_type": "execute_result"
    },
    {
     "data": {
      "image/png": "[encoded data removed]",
      "text/plain": [
       "<Figure size 1080x504 with 2 Axes>"
      ]
     },
     "metadata": {
      "needs_background": "light"
     },
     "output_type": "display_data"
    }
   ],
   "source": [
    "plt.subplots(figsize=(15,7))\n",
    "sns.heatmap(data.corr(), annot=True, cmap=\"coolwarm\")"
   ]
  },
  {
   "attachments": {},
   "cell_type": "markdown",
   "metadata": {},
   "source": [
    "Notiamo forte correlazione tra:\n",
    "- 'free_sulphur_dioxide' e 'total_sulphur_dioxide'\n",
    "- 'fixed_acidity' e 'citric_acid'"
   ]
  },
  {
   "attachments": {},
   "cell_type": "markdown",
   "metadata": {},
   "source": [
    "## Definizione funzioni di utility e preprocessing"
   ]
  },
  {
   "cell_type": "code",
   "execution_count": 62,
   "metadata": {},
   "outputs": [],
   "source": [
    "from sklearn.metrics import mean_squared_error, r2_score\n",
    "import numpy\n",
    "\n",
    "random_state = 50\n",
    "\n",
    "def relative_error(y_true, y_pred):\n",
    "    return numpy.mean(numpy.abs((y_true - y_pred) / y_true))\n",
    "def rmspe(y_real, y_pred):\n",
    "    return numpy.sqrt(numpy.mean((y_pred /y_real - 1) ** 2))\n",
    "\n",
    "def print_eval(X, y, model):\n",
    "    preds = model.predict(X)\n",
    "    mse = mean_squared_error(y, preds)\n",
    "    re = relative_error(y, preds)\n",
    "    r2 = r2_score(y, preds)\n",
    "    print(f\"Mean squared error: {mse:.5}\")\n",
    "    print(f\"RMSPE: {rmspe(y, preds):12.4f}\")\n",
    "    print(f\"Relative error: {re:.5%}\")\n",
    "    print(f\"R-squared coefficient: {r2:.5}\")"
   ]
  },
  {
   "attachments": {},
   "cell_type": "markdown",
   "metadata": {},
   "source": [
    "Dividiamo i dati tra variabili indipendenti e la variabile dipendente, oltre a preparare un KFold che ci servirà più avanti.\n",
    "Prepariamo anche un training set e un validation set."
   ]
  },
  {
   "cell_type": "code",
   "execution_count": 31,
   "metadata": {
    "collapsed": false,
    "pycharm": {
     "is_executing": false,
     "name": "#%%\n"
    }
   },
   "outputs": [],
   "source": [
    "from sklearn.pipeline import Pipeline\n",
    "from sklearn.preprocessing import StandardScaler, PolynomialFeatures\n",
    "from sklearn.linear_model import LinearRegression, Ridge, Lasso\n",
    "from sklearn.model_selection import KFold, cross_validate, GridSearchCV, train_test_split\n",
    "\n",
    "x = data.drop(columns=\"quality\")\n",
    "y = data[\"quality\"]\n",
    "kf = KFold(5, shuffle=True, random_state=random_state)\n",
    "x_train, x_test, y_train, y_test = train_test_split(x, y, random_state=random_state)"
   ]
  },
  {
   "attachments": {},
   "cell_type": "markdown",
   "metadata": {
    "collapsed": false,
    "pycharm": {
     "is_executing": false,
     "name": "#%% md\n"
    }
   },
   "source": [
    "## Regressione lineare con normalizzazione e cross validation"
   ]
  },
  {
   "attachments": {},
   "cell_type": "markdown",
   "metadata": {},
   "source": [
    "Iniziamo provando un modello di regressione lineare con normalizzazione delle variabili di input.\n",
    "A questo scopo costruiamo una pipeline con due componenti.\n",
    "Di seguito lo addestriamo sui dati di training e stampiamo le metriche sui dati di validation."
   ]
  },
  {
   "cell_type": "code",
   "execution_count": 32,
   "metadata": {
    "collapsed": false,
    "pycharm": {
     "is_executing": false,
     "name": "#%%\n"
    }
   },
   "outputs": [
    {
     "name": "stdout",
     "output_type": "stream",
     "text": [
      "   Mean squared error: 0.40213\n",
      "       Relative error: 9.20274%\n",
      "R-squared coefficient: 0.32752\n"
     ]
    }
   ],
   "source": [
    "linear_model = Pipeline([\n",
    "    (\"scaler\", StandardScaler()), \n",
    "    (\"linreg\", LinearRegression()\n",
    "     )])\n",
    "\n",
    "linear_model.fit(x_train, y_train)\n",
    "print_eval(x_test, y_test, linear_model)"
   ]
  },
  {
   "attachments": {},
   "cell_type": "markdown",
   "metadata": {},
   "source": [
    "Calcoliamo la precisione del modello anche con la cross validation, più rappresentativa rispetto al metodo di hold-out."
   ]
  },
  {
   "cell_type": "code",
   "execution_count": 33,
   "metadata": {
    "collapsed": false,
    "pycharm": {
     "is_executing": false,
     "name": "#%%\n"
    }
   },
   "outputs": [
    {
     "data": {
      "text/plain": [
       "0.34212132449474336"
      ]
     },
     "execution_count": 33,
     "metadata": {},
     "output_type": "execute_result"
    }
   ],
   "source": [
    "linear_model = Pipeline([\n",
    "    (\"scaler\", StandardScaler()), \n",
    "    (\"linreg\", LinearRegression()\n",
    "     )])\n",
    "\n",
    "cv_res = cross_validate(linear_model, x, y, cv=kf)\n",
    "cv_frame = pandas.DataFrame(cv_res)\n",
    "cv_frame[\"test_score\"].mean()"
   ]
  },
  {
   "attachments": {},
   "cell_type": "markdown",
   "metadata": {},
   "source": [
    "Notiamo come la precisione del modello non sia particolarmente soddisfacente, probabilmente dovuto al fatto che alcune variabili indipendenti sono in realtà collineari e la distribuzione non è ottimale."
   ]
  },
  {
   "attachments": {},
   "cell_type": "markdown",
   "metadata": {
    "collapsed": false,
    "pycharm": {
     "name": "#%% md\n"
    }
   },
   "source": [
    "## Regressione Ridge con grid search"
   ]
  },
  {
   "attachments": {},
   "cell_type": "markdown",
   "metadata": {},
   "source": [
    "Analizziamo gli effetti di regolarizzazione dell'algoritmo Ridge, sfruttando il metodo della grid search per dimensionare l'iperparametro alpha."
   ]
  },
  {
   "cell_type": "code",
   "execution_count": 34,
   "metadata": {},
   "outputs": [
    {
     "name": "stdout",
     "output_type": "stream",
     "text": [
      "   Mean squared error: 0.40006\n",
      "       Relative error: 9.22113%\n",
      "R-squared coefficient: 0.33098\n"
     ]
    },
    {
     "data": {
      "text/html": [
       "<div>\n",
       "<style scoped>\n",
       "    .dataframe tbody tr th:only-of-type {\n",
       "        vertical-align: middle;\n",
       "    }\n",
       "\n",
       "    .dataframe tbody tr th {\n",
       "        vertical-align: top;\n",
       "    }\n",
       "\n",
       "    .dataframe thead th {\n",
       "        text-align: right;\n",
       "    }\n",
       "</style>\n",
       "<table border=\"1\" class=\"dataframe\">\n",
       "  <thead>\n",
       "    <tr style=\"text-align: right;\">\n",
       "      <th></th>\n",
       "      <th>mean_fit_time</th>\n",
       "      <th>std_fit_time</th>\n",
       "      <th>mean_score_time</th>\n",
       "      <th>std_score_time</th>\n",
       "      <th>param_ridge__alpha</th>\n",
       "      <th>params</th>\n",
       "      <th>split0_test_score</th>\n",
       "      <th>split1_test_score</th>\n",
       "      <th>split2_test_score</th>\n",
       "      <th>split3_test_score</th>\n",
       "      <th>split4_test_score</th>\n",
       "      <th>mean_test_score</th>\n",
       "      <th>std_test_score</th>\n",
       "      <th>rank_test_score</th>\n",
       "    </tr>\n",
       "  </thead>\n",
       "  <tbody>\n",
       "    <tr>\n",
       "      <th>0</th>\n",
       "      <td>0.007399</td>\n",
       "      <td>0.010306</td>\n",
       "      <td>0.000801</td>\n",
       "      <td>4.002575e-04</td>\n",
       "      <td>0.1</td>\n",
       "      <td>{'ridge__alpha': 0.1}</td>\n",
       "      <td>0.272479</td>\n",
       "      <td>0.318111</td>\n",
       "      <td>0.358342</td>\n",
       "      <td>0.418788</td>\n",
       "      <td>0.353036</td>\n",
       "      <td>0.344151</td>\n",
       "      <td>0.048303</td>\n",
       "      <td>5</td>\n",
       "    </tr>\n",
       "    <tr>\n",
       "      <th>1</th>\n",
       "      <td>0.002800</td>\n",
       "      <td>0.000400</td>\n",
       "      <td>0.001200</td>\n",
       "      <td>4.000664e-04</td>\n",
       "      <td>1</td>\n",
       "      <td>{'ridge__alpha': 1}</td>\n",
       "      <td>0.272575</td>\n",
       "      <td>0.318457</td>\n",
       "      <td>0.358375</td>\n",
       "      <td>0.418761</td>\n",
       "      <td>0.353000</td>\n",
       "      <td>0.344233</td>\n",
       "      <td>0.048230</td>\n",
       "      <td>4</td>\n",
       "    </tr>\n",
       "    <tr>\n",
       "      <th>2</th>\n",
       "      <td>0.002799</td>\n",
       "      <td>0.000400</td>\n",
       "      <td>0.001000</td>\n",
       "      <td>2.336015e-07</td>\n",
       "      <td>10</td>\n",
       "      <td>{'ridge__alpha': 10}</td>\n",
       "      <td>0.273511</td>\n",
       "      <td>0.321315</td>\n",
       "      <td>0.358633</td>\n",
       "      <td>0.418414</td>\n",
       "      <td>0.352669</td>\n",
       "      <td>0.344908</td>\n",
       "      <td>0.047552</td>\n",
       "      <td>3</td>\n",
       "    </tr>\n",
       "    <tr>\n",
       "      <th>3</th>\n",
       "      <td>0.002600</td>\n",
       "      <td>0.000489</td>\n",
       "      <td>0.000800</td>\n",
       "      <td>3.998521e-04</td>\n",
       "      <td>30</td>\n",
       "      <td>{'ridge__alpha': 30}</td>\n",
       "      <td>0.275438</td>\n",
       "      <td>0.325180</td>\n",
       "      <td>0.358906</td>\n",
       "      <td>0.417239</td>\n",
       "      <td>0.351995</td>\n",
       "      <td>0.345752</td>\n",
       "      <td>0.046238</td>\n",
       "      <td>2</td>\n",
       "    </tr>\n",
       "    <tr>\n",
       "      <th>4</th>\n",
       "      <td>0.002600</td>\n",
       "      <td>0.000490</td>\n",
       "      <td>0.001000</td>\n",
       "      <td>5.761645e-07</td>\n",
       "      <td>50</td>\n",
       "      <td>{'ridge__alpha': 50}</td>\n",
       "      <td>0.277106</td>\n",
       "      <td>0.327226</td>\n",
       "      <td>0.358943</td>\n",
       "      <td>0.415664</td>\n",
       "      <td>0.351321</td>\n",
       "      <td>0.346052</td>\n",
       "      <td>0.045051</td>\n",
       "      <td>1</td>\n",
       "    </tr>\n",
       "  </tbody>\n",
       "</table>\n",
       "</div>"
      ],
      "text/plain": [
       "   mean_fit_time  std_fit_time  mean_score_time  std_score_time  \\\n",
       "0       0.007399      0.010306         0.000801    4.002575e-04   \n",
       "1       0.002800      0.000400         0.001200    4.000664e-04   \n",
       "2       0.002799      0.000400         0.001000    2.336015e-07   \n",
       "3       0.002600      0.000489         0.000800    3.998521e-04   \n",
       "4       0.002600      0.000490         0.001000    5.761645e-07   \n",
       "\n",
       "  param_ridge__alpha                 params  split0_test_score  \\\n",
       "0                0.1  {'ridge__alpha': 0.1}           0.272479   \n",
       "1                  1    {'ridge__alpha': 1}           0.272575   \n",
       "2                 10   {'ridge__alpha': 10}           0.273511   \n",
       "3                 30   {'ridge__alpha': 30}           0.275438   \n",
       "4                 50   {'ridge__alpha': 50}           0.277106   \n",
       "\n",
       "   split1_test_score  split2_test_score  split3_test_score  split4_test_score  \\\n",
       "0           0.318111           0.358342           0.418788           0.353036   \n",
       "1           0.318457           0.358375           0.418761           0.353000   \n",
       "2           0.321315           0.358633           0.418414           0.352669   \n",
       "3           0.325180           0.358906           0.417239           0.351995   \n",
       "4           0.327226           0.358943           0.415664           0.351321   \n",
       "\n",
       "   mean_test_score  std_test_score  rank_test_score  \n",
       "0         0.344151        0.048303                5  \n",
       "1         0.344233        0.048230                4  \n",
       "2         0.344908        0.047552                3  \n",
       "3         0.345752        0.046238                2  \n",
       "4         0.346052        0.045051                1  "
      ]
     },
     "execution_count": 34,
     "metadata": {},
     "output_type": "execute_result"
    }
   ],
   "source": [
    "ridge_model = Pipeline([\n",
    "    (\"scaler\", StandardScaler()),\n",
    "    (\"ridge\", Ridge())\n",
    "])\n",
    "grid = {\"ridge__alpha\":[0.1, 1, 10, 30, 50]}\n",
    "gs_res = GridSearchCV(ridge_model, param_grid=grid, cv=kf)\n",
    "gs_res.fit(x_train, y_train)\n",
    "\n",
    "print_eval(x_test, y_test, gs_res)\n",
    "pandas.DataFrame(gs_res.cv_results_)"
   ]
  },
  {
   "attachments": {},
   "cell_type": "markdown",
   "metadata": {},
   "source": [
    "Nonostante lo score maggiore sia con alpha=50, notiamo che la colonna 'mean_test_score' ha valori molto simili per tutti i valori di alpha."
   ]
  },
  {
   "attachments": {},
   "cell_type": "markdown",
   "metadata": {},
   "source": [
    "Proviamo a calcolare la media degli score con cross validation."
   ]
  },
  {
   "cell_type": "code",
   "execution_count": 204,
   "metadata": {
    "collapsed": false,
    "pycharm": {
     "is_executing": false,
     "name": "#%%\n"
    }
   },
   "outputs": [
    {
     "data": {
      "text/plain": [
       "0.34215071688479365"
      ]
     },
     "execution_count": 204,
     "metadata": {},
     "output_type": "execute_result"
    }
   ],
   "source": [
    "ridge_model = Pipeline([\n",
    "    (\"scaler\", StandardScaler()),\n",
    "    (\"ridge\", Ridge(1))\n",
    "])\n",
    "\n",
    "cv_res = cross_validate(ridge_model, x, y, cv=kf)\n",
    "cv_frame = pandas.DataFrame(cv_res)\n",
    "cv_frame[\"test_score\"].mean()"
   ]
  },
  {
   "attachments": {},
   "cell_type": "markdown",
   "metadata": {},
   "source": [
    "Il punteggio del modello è migliorato, ma non in maniera molto significativa."
   ]
  },
  {
   "attachments": {},
   "cell_type": "markdown",
   "metadata": {
    "collapsed": false,
    "pycharm": {
     "name": "#%% md\n"
    }
   },
   "source": [
    "La precisione dei primi due modelli testati non è soddisfacente.\n",
    "Tentiamo con una regressione Lasso, siccome notiamo un alto indice di correlazione tra alcune della variabili indipendenti.\n",
    "\n",
    "## Regressione Lasso con grid search"
   ]
  },
  {
   "cell_type": "code",
   "execution_count": 206,
   "metadata": {
    "collapsed": false,
    "pycharm": {
     "is_executing": false,
     "name": "#%%\n"
    }
   },
   "outputs": [
    {
     "data": {
      "text/html": [
       "<div>\n",
       "<style scoped>\n",
       "    .dataframe tbody tr th:only-of-type {\n",
       "        vertical-align: middle;\n",
       "    }\n",
       "\n",
       "    .dataframe tbody tr th {\n",
       "        vertical-align: top;\n",
       "    }\n",
       "\n",
       "    .dataframe thead th {\n",
       "        text-align: right;\n",
       "    }\n",
       "</style>\n",
       "<table border=\"1\" class=\"dataframe\">\n",
       "  <thead>\n",
       "    <tr style=\"text-align: right;\">\n",
       "      <th></th>\n",
       "      <th>mean_fit_time</th>\n",
       "      <th>std_fit_time</th>\n",
       "      <th>mean_score_time</th>\n",
       "      <th>std_score_time</th>\n",
       "      <th>param_lasso__alpha</th>\n",
       "      <th>params</th>\n",
       "      <th>split0_test_score</th>\n",
       "      <th>split1_test_score</th>\n",
       "      <th>split2_test_score</th>\n",
       "      <th>split3_test_score</th>\n",
       "      <th>split4_test_score</th>\n",
       "      <th>mean_test_score</th>\n",
       "      <th>std_test_score</th>\n",
       "      <th>rank_test_score</th>\n",
       "    </tr>\n",
       "  </thead>\n",
       "  <tbody>\n",
       "    <tr>\n",
       "      <th>0</th>\n",
       "      <td>0.002400</td>\n",
       "      <td>0.000488</td>\n",
       "      <td>0.0010</td>\n",
       "      <td>1.027139e-06</td>\n",
       "      <td>0.001</td>\n",
       "      <td>{'lasso__alpha': 0.001}</td>\n",
       "      <td>0.274499</td>\n",
       "      <td>0.321387</td>\n",
       "      <td>0.359217</td>\n",
       "      <td>0.417790</td>\n",
       "      <td>0.353506</td>\n",
       "      <td>0.345280</td>\n",
       "      <td>0.047118</td>\n",
       "      <td>3</td>\n",
       "    </tr>\n",
       "    <tr>\n",
       "      <th>1</th>\n",
       "      <td>0.003400</td>\n",
       "      <td>0.000490</td>\n",
       "      <td>0.0010</td>\n",
       "      <td>6.323346e-04</td>\n",
       "      <td>0.004</td>\n",
       "      <td>{'lasso__alpha': 0.004}</td>\n",
       "      <td>0.280009</td>\n",
       "      <td>0.325137</td>\n",
       "      <td>0.360670</td>\n",
       "      <td>0.414308</td>\n",
       "      <td>0.354452</td>\n",
       "      <td>0.346915</td>\n",
       "      <td>0.044133</td>\n",
       "      <td>2</td>\n",
       "    </tr>\n",
       "    <tr>\n",
       "      <th>2</th>\n",
       "      <td>0.003200</td>\n",
       "      <td>0.000400</td>\n",
       "      <td>0.0010</td>\n",
       "      <td>7.168434e-07</td>\n",
       "      <td>0.007</td>\n",
       "      <td>{'lasso__alpha': 0.007}</td>\n",
       "      <td>0.284572</td>\n",
       "      <td>0.326289</td>\n",
       "      <td>0.361484</td>\n",
       "      <td>0.410163</td>\n",
       "      <td>0.354479</td>\n",
       "      <td>0.347398</td>\n",
       "      <td>0.041426</td>\n",
       "      <td>1</td>\n",
       "    </tr>\n",
       "    <tr>\n",
       "      <th>3</th>\n",
       "      <td>0.003000</td>\n",
       "      <td>0.000632</td>\n",
       "      <td>0.0008</td>\n",
       "      <td>3.999711e-04</td>\n",
       "      <td>0.05</td>\n",
       "      <td>{'lasso__alpha': 0.05}</td>\n",
       "      <td>0.291687</td>\n",
       "      <td>0.308596</td>\n",
       "      <td>0.359335</td>\n",
       "      <td>0.360442</td>\n",
       "      <td>0.337379</td>\n",
       "      <td>0.331488</td>\n",
       "      <td>0.027411</td>\n",
       "      <td>4</td>\n",
       "    </tr>\n",
       "    <tr>\n",
       "      <th>4</th>\n",
       "      <td>0.002599</td>\n",
       "      <td>0.000800</td>\n",
       "      <td>0.0010</td>\n",
       "      <td>1.007019e-06</td>\n",
       "      <td>0.1</td>\n",
       "      <td>{'lasso__alpha': 0.1}</td>\n",
       "      <td>0.276919</td>\n",
       "      <td>0.271773</td>\n",
       "      <td>0.333085</td>\n",
       "      <td>0.318463</td>\n",
       "      <td>0.304465</td>\n",
       "      <td>0.300941</td>\n",
       "      <td>0.023582</td>\n",
       "      <td>5</td>\n",
       "    </tr>\n",
       "  </tbody>\n",
       "</table>\n",
       "</div>"
      ],
      "text/plain": [
       "   mean_fit_time  std_fit_time  mean_score_time  std_score_time  \\\n",
       "0       0.002400      0.000488           0.0010    1.027139e-06   \n",
       "1       0.003400      0.000490           0.0010    6.323346e-04   \n",
       "2       0.003200      0.000400           0.0010    7.168434e-07   \n",
       "3       0.003000      0.000632           0.0008    3.999711e-04   \n",
       "4       0.002599      0.000800           0.0010    1.007019e-06   \n",
       "\n",
       "  param_lasso__alpha                   params  split0_test_score  \\\n",
       "0              0.001  {'lasso__alpha': 0.001}           0.274499   \n",
       "1              0.004  {'lasso__alpha': 0.004}           0.280009   \n",
       "2              0.007  {'lasso__alpha': 0.007}           0.284572   \n",
       "3               0.05   {'lasso__alpha': 0.05}           0.291687   \n",
       "4                0.1    {'lasso__alpha': 0.1}           0.276919   \n",
       "\n",
       "   split1_test_score  split2_test_score  split3_test_score  split4_test_score  \\\n",
       "0           0.321387           0.359217           0.417790           0.353506   \n",
       "1           0.325137           0.360670           0.414308           0.354452   \n",
       "2           0.326289           0.361484           0.410163           0.354479   \n",
       "3           0.308596           0.359335           0.360442           0.337379   \n",
       "4           0.271773           0.333085           0.318463           0.304465   \n",
       "\n",
       "   mean_test_score  std_test_score  rank_test_score  \n",
       "0         0.345280        0.047118                3  \n",
       "1         0.346915        0.044133                2  \n",
       "2         0.347398        0.041426                1  \n",
       "3         0.331488        0.027411                4  \n",
       "4         0.300941        0.023582                5  "
      ]
     },
     "execution_count": 206,
     "metadata": {},
     "output_type": "execute_result"
    }
   ],
   "source": [
    "lasso_model = Pipeline([\n",
    "    (\"scaler\", StandardScaler()),\n",
    "    (\"lasso\", Lasso())\n",
    "])\n",
    "grid = {\"lasso__alpha\":[0.001, 0.004, 0.007, 0.05, 0.1]}\n",
    "gs_res = GridSearchCV(lasso_model, param_grid=grid, cv=kf)\n",
    "gs_res.fit(x_train, y_train)\n",
    "pandas.DataFrame(gs_res.cv_results_)"
   ]
  },
  {
   "attachments": {},
   "cell_type": "markdown",
   "metadata": {
    "collapsed": false
   },
   "source": [
    "Utilizziamo il valore 0.007 poichè risulta essere il migliore.\n",
    "Analizzando valori più alti di alpha si ottengono score decisamente troppo bassi; ciò è probabilmente dovuto al numero non troppo elevato di feature iniziali.\n",
    "In seguito analizziamo i coefficienti ottenuti dall'addestramento del modello."
   ]
  },
  {
   "cell_type": "code",
   "execution_count": 207,
   "metadata": {
    "collapsed": false,
    "pycharm": {
     "name": "#%%\n"
    }
   },
   "outputs": [
    {
     "data": {
      "text/plain": [
       "fixed_acidity           0.000000\n",
       "volatile_acidity       -0.182886\n",
       "citric_acid             0.000000\n",
       "residual_sugar         -0.000000\n",
       "chlorides              -0.000000\n",
       "free_sulfur_dioxide    -0.000000\n",
       "total_sulfur_dioxide   -0.007490\n",
       "density                -0.000000\n",
       "pH                     -0.000000\n",
       "sulphates               0.059049\n",
       "alcohol                 0.275815\n",
       "dtype: float64"
      ]
     },
     "execution_count": 207,
     "metadata": {},
     "output_type": "execute_result"
    }
   ],
   "source": [
    "lasso_model = Pipeline([\n",
    "    (\"scaler\", StandardScaler()),\n",
    "    (\"lasso\", Lasso(0.07))\n",
    "])\n",
    "lasso_model.fit(x_train, y_train)\n",
    "lasso_coeff = pandas.Series(lasso_model.named_steps[\"lasso\"].coef_, x_train.columns.values.tolist())\n",
    "lasso_coeff"
   ]
  },
  {
   "cell_type": "code",
   "execution_count": 142,
   "metadata": {},
   "outputs": [
    {
     "data": {
      "text/html": [
       "<div>\n",
       "<style scoped>\n",
       "    .dataframe tbody tr th:only-of-type {\n",
       "        vertical-align: middle;\n",
       "    }\n",
       "\n",
       "    .dataframe tbody tr th {\n",
       "        vertical-align: top;\n",
       "    }\n",
       "\n",
       "    .dataframe thead th {\n",
       "        text-align: right;\n",
       "    }\n",
       "</style>\n",
       "<table border=\"1\" class=\"dataframe\">\n",
       "  <thead>\n",
       "    <tr style=\"text-align: right;\">\n",
       "      <th></th>\n",
       "      <th>fit_time</th>\n",
       "      <th>score_time</th>\n",
       "      <th>test_score</th>\n",
       "    </tr>\n",
       "  </thead>\n",
       "  <tbody>\n",
       "    <tr>\n",
       "      <th>3</th>\n",
       "      <td>0.002000</td>\n",
       "      <td>0.000999</td>\n",
       "      <td>0.344925</td>\n",
       "    </tr>\n",
       "    <tr>\n",
       "      <th>1</th>\n",
       "      <td>0.003000</td>\n",
       "      <td>0.001001</td>\n",
       "      <td>0.334712</td>\n",
       "    </tr>\n",
       "    <tr>\n",
       "      <th>4</th>\n",
       "      <td>0.001999</td>\n",
       "      <td>0.001002</td>\n",
       "      <td>0.305581</td>\n",
       "    </tr>\n",
       "    <tr>\n",
       "      <th>2</th>\n",
       "      <td>0.003000</td>\n",
       "      <td>0.000998</td>\n",
       "      <td>0.302402</td>\n",
       "    </tr>\n",
       "    <tr>\n",
       "      <th>0</th>\n",
       "      <td>0.003998</td>\n",
       "      <td>0.000998</td>\n",
       "      <td>0.279029</td>\n",
       "    </tr>\n",
       "  </tbody>\n",
       "</table>\n",
       "</div>"
      ],
      "text/plain": [
       "   fit_time  score_time  test_score\n",
       "3  0.002000    0.000999    0.344925\n",
       "1  0.003000    0.001001    0.334712\n",
       "4  0.001999    0.001002    0.305581\n",
       "2  0.003000    0.000998    0.302402\n",
       "0  0.003998    0.000998    0.279029"
      ]
     },
     "execution_count": 142,
     "metadata": {},
     "output_type": "execute_result"
    }
   ],
   "source": [
    "cv_res = cross_validate(lasso_model, x, y, cv=kf)\n",
    "cv_frame = pandas.DataFrame(cv_res).sort_values(\"test_score\", ascending=False)\n",
    "cv_frame"
   ]
  },
  {
   "cell_type": "code",
   "execution_count": 143,
   "metadata": {},
   "outputs": [
    {
     "data": {
      "text/plain": [
       "0.31333000041445397"
      ]
     },
     "execution_count": 143,
     "metadata": {},
     "output_type": "execute_result"
    }
   ],
   "source": [
    "cv_frame[\"test_score\"].mean()"
   ]
  },
  {
   "attachments": {},
   "cell_type": "markdown",
   "metadata": {},
   "source": [
    "Lo score del modello è inferiore ai precedenti, ma abbiamo ottenuto alcune informazioni sulla rilevanza delle feature disponibili.\n",
    "Proviamo intuitivamente a rimuovere le feature di poca importanza e riaddestrare un modello lineare con features polinomiali e regolarizzazione."
   ]
  },
  {
   "cell_type": "code",
   "execution_count": 38,
   "metadata": {
    "collapsed": false,
    "pycharm": {
     "name": "#%%\n"
    }
   },
   "outputs": [],
   "source": [
    "x_red = x.drop(columns=[\"fixed_acidity\", \"residual_sugar\", \"density\", \"citric_acid\", \"chlorides\", \"free_sulfur_dioxide\", \"pH\"])\n",
    "x_train_red = x_train.drop(columns=[\"fixed_acidity\", \"residual_sugar\", \"density\", \"citric_acid\", \"chlorides\", \"free_sulfur_dioxide\", \"pH\"])\n",
    "x_test_red = x_test.drop(columns=[\"fixed_acidity\", \"residual_sugar\", \"density\", \"citric_acid\", \"chlorides\", \"free_sulfur_dioxide\", \"pH\"])"
   ]
  },
  {
   "attachments": {},
   "cell_type": "markdown",
   "metadata": {},
   "source": [
    "## Regressione Polinomiale su dataset con feature ridotte"
   ]
  },
  {
   "cell_type": "code",
   "execution_count": 39,
   "metadata": {
    "collapsed": false,
    "pycharm": {
     "name": "#%%\n"
    }
   },
   "outputs": [
    {
     "data": {
      "text/html": [
       "<div>\n",
       "<style scoped>\n",
       "    .dataframe tbody tr th:only-of-type {\n",
       "        vertical-align: middle;\n",
       "    }\n",
       "\n",
       "    .dataframe tbody tr th {\n",
       "        vertical-align: top;\n",
       "    }\n",
       "\n",
       "    .dataframe thead th {\n",
       "        text-align: right;\n",
       "    }\n",
       "</style>\n",
       "<table border=\"1\" class=\"dataframe\">\n",
       "  <thead>\n",
       "    <tr style=\"text-align: right;\">\n",
       "      <th></th>\n",
       "      <th>mean_fit_time</th>\n",
       "      <th>std_fit_time</th>\n",
       "      <th>mean_score_time</th>\n",
       "      <th>std_score_time</th>\n",
       "      <th>param_poly__degree</th>\n",
       "      <th>params</th>\n",
       "      <th>split0_test_score</th>\n",
       "      <th>split1_test_score</th>\n",
       "      <th>split2_test_score</th>\n",
       "      <th>split3_test_score</th>\n",
       "      <th>split4_test_score</th>\n",
       "      <th>mean_test_score</th>\n",
       "      <th>std_test_score</th>\n",
       "      <th>rank_test_score</th>\n",
       "    </tr>\n",
       "  </thead>\n",
       "  <tbody>\n",
       "    <tr>\n",
       "      <th>0</th>\n",
       "      <td>0.003801</td>\n",
       "      <td>0.001471</td>\n",
       "      <td>0.000799</td>\n",
       "      <td>0.000399</td>\n",
       "      <td>1</td>\n",
       "      <td>{'poly__degree': 1}</td>\n",
       "      <td>0.283028</td>\n",
       "      <td>0.322699</td>\n",
       "      <td>0.349475</td>\n",
       "      <td>0.386477</td>\n",
       "      <td>0.350631</td>\n",
       "      <td>0.338462</td>\n",
       "      <td>0.034340</td>\n",
       "      <td>3</td>\n",
       "    </tr>\n",
       "    <tr>\n",
       "      <th>1</th>\n",
       "      <td>0.004625</td>\n",
       "      <td>0.002722</td>\n",
       "      <td>0.000974</td>\n",
       "      <td>0.000051</td>\n",
       "      <td>2</td>\n",
       "      <td>{'poly__degree': 2}</td>\n",
       "      <td>0.348051</td>\n",
       "      <td>0.341285</td>\n",
       "      <td>0.429822</td>\n",
       "      <td>0.397502</td>\n",
       "      <td>0.337009</td>\n",
       "      <td>0.370734</td>\n",
       "      <td>0.036680</td>\n",
       "      <td>1</td>\n",
       "    </tr>\n",
       "    <tr>\n",
       "      <th>2</th>\n",
       "      <td>0.005001</td>\n",
       "      <td>0.003033</td>\n",
       "      <td>0.001000</td>\n",
       "      <td>0.000001</td>\n",
       "      <td>3</td>\n",
       "      <td>{'poly__degree': 3}</td>\n",
       "      <td>0.358288</td>\n",
       "      <td>0.346214</td>\n",
       "      <td>0.354104</td>\n",
       "      <td>0.396677</td>\n",
       "      <td>0.272183</td>\n",
       "      <td>0.345493</td>\n",
       "      <td>0.040577</td>\n",
       "      <td>2</td>\n",
       "    </tr>\n",
       "  </tbody>\n",
       "</table>\n",
       "</div>"
      ],
      "text/plain": [
       "   mean_fit_time  std_fit_time  mean_score_time  std_score_time  \\\n",
       "0       0.003801      0.001471         0.000799        0.000399   \n",
       "1       0.004625      0.002722         0.000974        0.000051   \n",
       "2       0.005001      0.003033         0.001000        0.000001   \n",
       "\n",
       "  param_poly__degree               params  split0_test_score  \\\n",
       "0                  1  {'poly__degree': 1}           0.283028   \n",
       "1                  2  {'poly__degree': 2}           0.348051   \n",
       "2                  3  {'poly__degree': 3}           0.358288   \n",
       "\n",
       "   split1_test_score  split2_test_score  split3_test_score  split4_test_score  \\\n",
       "0           0.322699           0.349475           0.386477           0.350631   \n",
       "1           0.341285           0.429822           0.397502           0.337009   \n",
       "2           0.346214           0.354104           0.396677           0.272183   \n",
       "\n",
       "   mean_test_score  std_test_score  rank_test_score  \n",
       "0         0.338462        0.034340                3  \n",
       "1         0.370734        0.036680                1  \n",
       "2         0.345493        0.040577                2  "
      ]
     },
     "execution_count": 39,
     "metadata": {},
     "output_type": "execute_result"
    }
   ],
   "source": [
    "linear_model = Pipeline([\n",
    "    (\"poly\", PolynomialFeatures(include_bias=False)),\n",
    "    (\"scaler\", StandardScaler()),\n",
    "    (\"linreg\", LinearRegression()\n",
    "     )])\n",
    "grid = {\"poly__degree\":[1, 2, 3]}\n",
    "gs_res = GridSearchCV(linear_model, param_grid=grid, cv=kf)\n",
    "gs_res.fit(x_train_red, y_train)\n",
    "pandas.DataFrame(gs_res.cv_results_)"
   ]
  },
  {
   "cell_type": "code",
   "execution_count": 141,
   "metadata": {
    "collapsed": false,
    "pycharm": {
     "name": "#%%\n"
    }
   },
   "outputs": [
    {
     "name": "stdout",
     "output_type": "stream",
     "text": [
      "Mean squared error: 0.40966\n",
      "RMSPE:       0.1295\n",
      "Relative error: 9.40925%\n",
      "R-squared coefficient: 0.31492\n"
     ]
    },
    {
     "data": {
      "text/html": [
       "<div>\n",
       "<style scoped>\n",
       "    .dataframe tbody tr th:only-of-type {\n",
       "        vertical-align: middle;\n",
       "    }\n",
       "\n",
       "    .dataframe tbody tr th {\n",
       "        vertical-align: top;\n",
       "    }\n",
       "\n",
       "    .dataframe thead th {\n",
       "        text-align: right;\n",
       "    }\n",
       "</style>\n",
       "<table border=\"1\" class=\"dataframe\">\n",
       "  <thead>\n",
       "    <tr style=\"text-align: right;\">\n",
       "      <th></th>\n",
       "      <th>fit_time</th>\n",
       "      <th>score_time</th>\n",
       "      <th>test_score</th>\n",
       "    </tr>\n",
       "  </thead>\n",
       "  <tbody>\n",
       "    <tr>\n",
       "      <th>3</th>\n",
       "      <td>0.004000</td>\n",
       "      <td>0.001001</td>\n",
       "      <td>0.388583</td>\n",
       "    </tr>\n",
       "    <tr>\n",
       "      <th>4</th>\n",
       "      <td>0.003999</td>\n",
       "      <td>0.000999</td>\n",
       "      <td>0.381582</td>\n",
       "    </tr>\n",
       "    <tr>\n",
       "      <th>1</th>\n",
       "      <td>0.004000</td>\n",
       "      <td>0.000998</td>\n",
       "      <td>0.362635</td>\n",
       "    </tr>\n",
       "    <tr>\n",
       "      <th>2</th>\n",
       "      <td>0.003000</td>\n",
       "      <td>0.001000</td>\n",
       "      <td>0.335717</td>\n",
       "    </tr>\n",
       "    <tr>\n",
       "      <th>0</th>\n",
       "      <td>0.004002</td>\n",
       "      <td>0.000999</td>\n",
       "      <td>0.311070</td>\n",
       "    </tr>\n",
       "  </tbody>\n",
       "</table>\n",
       "</div>"
      ],
      "text/plain": [
       "   fit_time  score_time  test_score\n",
       "3  0.004000    0.001001    0.388583\n",
       "4  0.003999    0.000999    0.381582\n",
       "1  0.004000    0.000998    0.362635\n",
       "2  0.003000    0.001000    0.335717\n",
       "0  0.004002    0.000999    0.311070"
      ]
     },
     "execution_count": 141,
     "metadata": {},
     "output_type": "execute_result"
    }
   ],
   "source": [
    "linear_model = Pipeline([\n",
    "    (\"poly\", PolynomialFeatures(degree=2, include_bias=False)),\n",
    "    (\"scaler\", StandardScaler()), \n",
    "    (\"linreg\", LinearRegression()\n",
    "     )])\n",
    "linear_model.fit(x_train_red, y_train)\n",
    "print_eval(x_test_red, y_test, linear_model)\n",
    "\n",
    "cv_res = cross_validate(linear_model, x_red, y, cv=kf)\n",
    "cv_frame = pandas.DataFrame(cv_res).sort_values(\"test_score\", ascending=False)\n",
    "cv_frame"
   ]
  },
  {
   "cell_type": "code",
   "execution_count": 139,
   "metadata": {},
   "outputs": [
    {
     "data": {
      "text/plain": [
       "0.35591743104536505"
      ]
     },
     "execution_count": 139,
     "metadata": {},
     "output_type": "execute_result"
    }
   ],
   "source": [
    "cv_frame[\"test_score\"].mean()"
   ]
  },
  {
   "attachments": {},
   "cell_type": "markdown",
   "metadata": {},
   "source": [
    "Una regressione polinomiale di grado 2 aumenta leggermente lo score, ma siamo ancora lontani da un risultato soddisfacente."
   ]
  },
  {
   "attachments": {},
   "cell_type": "markdown",
   "metadata": {},
   "source": [
    "A questo punto si potrebbero fare alcune prove con metodi basati su alberi di regressione (che includerò per completezza), ma qui mi rendo conto che il vero elefante nella stanza è la formulazione del problema.\n",
    "E se fosse più adatto utilizzare questi dati per addestrare un modello di classificazione?"
   ]
  },
  {
   "attachments": {},
   "cell_type": "markdown",
   "metadata": {},
   "source": [
    "## Alberi di regressione"
   ]
  },
  {
   "cell_type": "code",
   "execution_count": 127,
   "metadata": {},
   "outputs": [
    {
     "name": "stdout",
     "output_type": "stream",
     "text": [
      "Mean squared error: 0.34835\n",
      "RMSPE:       0.1229\n",
      "Relative error: 8.46159%\n",
      "R-squared coefficient: 0.41745\n"
     ]
    },
    {
     "data": {
      "text/html": [
       "<div>\n",
       "<style scoped>\n",
       "    .dataframe tbody tr th:only-of-type {\n",
       "        vertical-align: middle;\n",
       "    }\n",
       "\n",
       "    .dataframe tbody tr th {\n",
       "        vertical-align: top;\n",
       "    }\n",
       "\n",
       "    .dataframe thead th {\n",
       "        text-align: right;\n",
       "    }\n",
       "</style>\n",
       "<table border=\"1\" class=\"dataframe\">\n",
       "  <thead>\n",
       "    <tr style=\"text-align: right;\">\n",
       "      <th></th>\n",
       "      <th>0</th>\n",
       "    </tr>\n",
       "  </thead>\n",
       "  <tbody>\n",
       "    <tr>\n",
       "      <th>alcohol</th>\n",
       "      <td>0.199357</td>\n",
       "    </tr>\n",
       "    <tr>\n",
       "      <th>sulphates</th>\n",
       "      <td>0.137298</td>\n",
       "    </tr>\n",
       "    <tr>\n",
       "      <th>volatile_acidity</th>\n",
       "      <td>0.131387</td>\n",
       "    </tr>\n",
       "    <tr>\n",
       "      <th>density</th>\n",
       "      <td>0.084061</td>\n",
       "    </tr>\n",
       "    <tr>\n",
       "      <th>total_sulfur_dioxide</th>\n",
       "      <td>0.080447</td>\n",
       "    </tr>\n",
       "    <tr>\n",
       "      <th>chlorides</th>\n",
       "      <td>0.068155</td>\n",
       "    </tr>\n",
       "    <tr>\n",
       "      <th>citric_acid</th>\n",
       "      <td>0.067535</td>\n",
       "    </tr>\n",
       "    <tr>\n",
       "      <th>fixed_acidity</th>\n",
       "      <td>0.064759</td>\n",
       "    </tr>\n",
       "    <tr>\n",
       "      <th>pH</th>\n",
       "      <td>0.062211</td>\n",
       "    </tr>\n",
       "    <tr>\n",
       "      <th>residual_sugar</th>\n",
       "      <td>0.054797</td>\n",
       "    </tr>\n",
       "    <tr>\n",
       "      <th>free_sulfur_dioxide</th>\n",
       "      <td>0.049994</td>\n",
       "    </tr>\n",
       "  </tbody>\n",
       "</table>\n",
       "</div>"
      ],
      "text/plain": [
       "                             0\n",
       "alcohol               0.199357\n",
       "sulphates             0.137298\n",
       "volatile_acidity      0.131387\n",
       "density               0.084061\n",
       "total_sulfur_dioxide  0.080447\n",
       "chlorides             0.068155\n",
       "citric_acid           0.067535\n",
       "fixed_acidity         0.064759\n",
       "pH                    0.062211\n",
       "residual_sugar        0.054797\n",
       "free_sulfur_dioxide   0.049994"
      ]
     },
     "execution_count": 127,
     "metadata": {},
     "output_type": "execute_result"
    }
   ],
   "source": [
    "from sklearn.ensemble import RandomForestRegressor\n",
    "\n",
    "rfm = RandomForestRegressor(max_samples=0.4, max_features=\"sqrt\", n_estimators=200, max_depth=None, n_jobs=-1, random_state=random_state)\n",
    "rfm.fit(x_train, y_train)\n",
    "\n",
    "print_eval(x_test, y_test, rfm)\n",
    "pandas.DataFrame(rfm.feature_importances_, x_train.columns.values.tolist()).sort_values(0, ascending=False)"
   ]
  },
  {
   "attachments": {},
   "cell_type": "markdown",
   "metadata": {},
   "source": [
    "## Gradient Boosting"
   ]
  },
  {
   "cell_type": "code",
   "execution_count": 116,
   "metadata": {},
   "outputs": [],
   "source": [
    "# %pip install xgboost==1.1.0\n",
    "from xgboost import XGBRegressor\n",
    "\n",
    "xgbm = XGBRegressor(objective='reg:squarederror')\n",
    "grid = {\"reg_alpha\" : [0.1, 1, 10, 50],\n",
    "        \"reg_lambda\" : [0.1, 0.4, 0.7, 1],\n",
    "        \"n_estimators\" : [100, 200, 400]}\n",
    "gs_res = GridSearchCV(xgbm, param_grid=grid, cv=kf)\n",
    "gs_res.fit(x_train, y_train)\n",
    "res = pandas.DataFrame(gs_res.cv_results_)\n"
   ]
  },
  {
   "cell_type": "code",
   "execution_count": 120,
   "metadata": {},
   "outputs": [
    {
     "name": "stdout",
     "output_type": "stream",
     "text": [
      "Mean squared error: 0.35507\n",
      "RMSPE:       0.1208\n",
      "Relative error: 7.62026%\n",
      "R-squared coefficient: 0.40622\n"
     ]
    }
   ],
   "source": [
    "res.sort_values(\"mean_test_score\", ascending=False).head(1)\n",
    "\n",
    "print_eval(x_test, y_test, gs_res)"
   ]
  },
  {
   "cell_type": "code",
   "execution_count": 144,
   "metadata": {},
   "outputs": [
    {
     "data": {
      "text/html": [
       "<div>\n",
       "<style scoped>\n",
       "    .dataframe tbody tr th:only-of-type {\n",
       "        vertical-align: middle;\n",
       "    }\n",
       "\n",
       "    .dataframe tbody tr th {\n",
       "        vertical-align: top;\n",
       "    }\n",
       "\n",
       "    .dataframe thead th {\n",
       "        text-align: right;\n",
       "    }\n",
       "</style>\n",
       "<table border=\"1\" class=\"dataframe\">\n",
       "  <thead>\n",
       "    <tr style=\"text-align: right;\">\n",
       "      <th></th>\n",
       "      <th>fit_time</th>\n",
       "      <th>score_time</th>\n",
       "      <th>test_score</th>\n",
       "    </tr>\n",
       "  </thead>\n",
       "  <tbody>\n",
       "    <tr>\n",
       "      <th>0</th>\n",
       "      <td>0.063998</td>\n",
       "      <td>0.002000</td>\n",
       "      <td>0.451200</td>\n",
       "    </tr>\n",
       "    <tr>\n",
       "      <th>4</th>\n",
       "      <td>0.051998</td>\n",
       "      <td>0.002000</td>\n",
       "      <td>0.441832</td>\n",
       "    </tr>\n",
       "    <tr>\n",
       "      <th>3</th>\n",
       "      <td>0.058000</td>\n",
       "      <td>0.002001</td>\n",
       "      <td>0.434440</td>\n",
       "    </tr>\n",
       "    <tr>\n",
       "      <th>2</th>\n",
       "      <td>0.051998</td>\n",
       "      <td>0.002001</td>\n",
       "      <td>0.369626</td>\n",
       "    </tr>\n",
       "    <tr>\n",
       "      <th>1</th>\n",
       "      <td>0.056000</td>\n",
       "      <td>0.001001</td>\n",
       "      <td>0.338378</td>\n",
       "    </tr>\n",
       "  </tbody>\n",
       "</table>\n",
       "</div>"
      ],
      "text/plain": [
       "   fit_time  score_time  test_score\n",
       "0  0.063998    0.002000    0.451200\n",
       "4  0.051998    0.002000    0.441832\n",
       "3  0.058000    0.002001    0.434440\n",
       "2  0.051998    0.002001    0.369626\n",
       "1  0.056000    0.001001    0.338378"
      ]
     },
     "execution_count": 144,
     "metadata": {},
     "output_type": "execute_result"
    }
   ],
   "source": [
    "cv_res = cross_validate(gs_res.best_estimator_, x, y, cv=kf)\n",
    "cv_frame = pandas.DataFrame(cv_res).sort_values(\"test_score\", ascending=False)\n",
    "cv_frame"
   ]
  },
  {
   "cell_type": "code",
   "execution_count": 145,
   "metadata": {},
   "outputs": [
    {
     "data": {
      "text/plain": [
       "0.40709502679773674"
      ]
     },
     "execution_count": 145,
     "metadata": {},
     "output_type": "execute_result"
    }
   ],
   "source": [
    "cv_frame[\"test_score\"].mean()"
   ]
  },
  {
   "attachments": {},
   "cell_type": "markdown",
   "metadata": {},
   "source": [
    "## Perchè la classificazione?\n",
    "\n",
    "Tra i motivi che mi hanno fatto propendere verso questa soluzione, abbiamo il fatto che la variabile target non sia in realtà continua, bensì discreta.\n",
    "Inoltre come vedremo più avanti il dataset risulta più bilanciato, se vengono considerate due classi."
   ]
  },
  {
   "attachments": {},
   "cell_type": "markdown",
   "metadata": {},
   "source": [
    "## Esplorazione dei dati dal punto di vista della classificazione"
   ]
  },
  {
   "attachments": {},
   "cell_type": "markdown",
   "metadata": {},
   "source": [
    "Mappiamo i voti da 3 a 5 come vino 'cattivo' (0), mentre da 6 a 8 come 'buono' (1)."
   ]
  },
  {
   "cell_type": "code",
   "execution_count": 160,
   "metadata": {},
   "outputs": [
    {
     "data": {
      "text/html": [
       "<div>\n",
       "<style scoped>\n",
       "    .dataframe tbody tr th:only-of-type {\n",
       "        vertical-align: middle;\n",
       "    }\n",
       "\n",
       "    .dataframe tbody tr th {\n",
       "        vertical-align: top;\n",
       "    }\n",
       "\n",
       "    .dataframe thead th {\n",
       "        text-align: right;\n",
       "    }\n",
       "</style>\n",
       "<table border=\"1\" class=\"dataframe\">\n",
       "  <thead>\n",
       "    <tr style=\"text-align: right;\">\n",
       "      <th></th>\n",
       "      <th>fixed_acidity</th>\n",
       "      <th>volatile_acidity</th>\n",
       "      <th>citric_acid</th>\n",
       "      <th>residual_sugar</th>\n",
       "      <th>chlorides</th>\n",
       "      <th>free_sulfur_dioxide</th>\n",
       "      <th>total_sulfur_dioxide</th>\n",
       "      <th>density</th>\n",
       "      <th>pH</th>\n",
       "      <th>sulphates</th>\n",
       "      <th>alcohol</th>\n",
       "      <th>quality</th>\n",
       "    </tr>\n",
       "  </thead>\n",
       "  <tbody>\n",
       "    <tr>\n",
       "      <th>0</th>\n",
       "      <td>7.4</td>\n",
       "      <td>0.70</td>\n",
       "      <td>0.00</td>\n",
       "      <td>1.9</td>\n",
       "      <td>0.076</td>\n",
       "      <td>11.0</td>\n",
       "      <td>34.0</td>\n",
       "      <td>0.9978</td>\n",
       "      <td>3.51</td>\n",
       "      <td>0.56</td>\n",
       "      <td>9.4</td>\n",
       "      <td>0</td>\n",
       "    </tr>\n",
       "    <tr>\n",
       "      <th>1</th>\n",
       "      <td>7.8</td>\n",
       "      <td>0.88</td>\n",
       "      <td>0.00</td>\n",
       "      <td>2.6</td>\n",
       "      <td>0.098</td>\n",
       "      <td>25.0</td>\n",
       "      <td>67.0</td>\n",
       "      <td>0.9968</td>\n",
       "      <td>3.20</td>\n",
       "      <td>0.68</td>\n",
       "      <td>9.8</td>\n",
       "      <td>0</td>\n",
       "    </tr>\n",
       "    <tr>\n",
       "      <th>2</th>\n",
       "      <td>7.8</td>\n",
       "      <td>0.76</td>\n",
       "      <td>0.04</td>\n",
       "      <td>2.3</td>\n",
       "      <td>0.092</td>\n",
       "      <td>15.0</td>\n",
       "      <td>54.0</td>\n",
       "      <td>0.9970</td>\n",
       "      <td>3.26</td>\n",
       "      <td>0.65</td>\n",
       "      <td>9.8</td>\n",
       "      <td>0</td>\n",
       "    </tr>\n",
       "    <tr>\n",
       "      <th>3</th>\n",
       "      <td>11.2</td>\n",
       "      <td>0.28</td>\n",
       "      <td>0.56</td>\n",
       "      <td>1.9</td>\n",
       "      <td>0.075</td>\n",
       "      <td>17.0</td>\n",
       "      <td>60.0</td>\n",
       "      <td>0.9980</td>\n",
       "      <td>3.16</td>\n",
       "      <td>0.58</td>\n",
       "      <td>9.8</td>\n",
       "      <td>1</td>\n",
       "    </tr>\n",
       "    <tr>\n",
       "      <th>4</th>\n",
       "      <td>7.4</td>\n",
       "      <td>0.70</td>\n",
       "      <td>0.00</td>\n",
       "      <td>1.9</td>\n",
       "      <td>0.076</td>\n",
       "      <td>11.0</td>\n",
       "      <td>34.0</td>\n",
       "      <td>0.9978</td>\n",
       "      <td>3.51</td>\n",
       "      <td>0.56</td>\n",
       "      <td>9.4</td>\n",
       "      <td>0</td>\n",
       "    </tr>\n",
       "    <tr>\n",
       "      <th>5</th>\n",
       "      <td>7.4</td>\n",
       "      <td>0.66</td>\n",
       "      <td>0.00</td>\n",
       "      <td>1.8</td>\n",
       "      <td>0.075</td>\n",
       "      <td>13.0</td>\n",
       "      <td>40.0</td>\n",
       "      <td>0.9978</td>\n",
       "      <td>3.51</td>\n",
       "      <td>0.56</td>\n",
       "      <td>9.4</td>\n",
       "      <td>0</td>\n",
       "    </tr>\n",
       "    <tr>\n",
       "      <th>6</th>\n",
       "      <td>7.9</td>\n",
       "      <td>0.60</td>\n",
       "      <td>0.06</td>\n",
       "      <td>1.6</td>\n",
       "      <td>0.069</td>\n",
       "      <td>15.0</td>\n",
       "      <td>59.0</td>\n",
       "      <td>0.9964</td>\n",
       "      <td>3.30</td>\n",
       "      <td>0.46</td>\n",
       "      <td>9.4</td>\n",
       "      <td>0</td>\n",
       "    </tr>\n",
       "    <tr>\n",
       "      <th>7</th>\n",
       "      <td>7.3</td>\n",
       "      <td>0.65</td>\n",
       "      <td>0.00</td>\n",
       "      <td>1.2</td>\n",
       "      <td>0.065</td>\n",
       "      <td>15.0</td>\n",
       "      <td>21.0</td>\n",
       "      <td>0.9946</td>\n",
       "      <td>3.39</td>\n",
       "      <td>0.47</td>\n",
       "      <td>10.0</td>\n",
       "      <td>1</td>\n",
       "    </tr>\n",
       "    <tr>\n",
       "      <th>8</th>\n",
       "      <td>7.8</td>\n",
       "      <td>0.58</td>\n",
       "      <td>0.02</td>\n",
       "      <td>2.0</td>\n",
       "      <td>0.073</td>\n",
       "      <td>9.0</td>\n",
       "      <td>18.0</td>\n",
       "      <td>0.9968</td>\n",
       "      <td>3.36</td>\n",
       "      <td>0.57</td>\n",
       "      <td>9.5</td>\n",
       "      <td>1</td>\n",
       "    </tr>\n",
       "    <tr>\n",
       "      <th>9</th>\n",
       "      <td>7.5</td>\n",
       "      <td>0.50</td>\n",
       "      <td>0.36</td>\n",
       "      <td>6.1</td>\n",
       "      <td>0.071</td>\n",
       "      <td>17.0</td>\n",
       "      <td>102.0</td>\n",
       "      <td>0.9978</td>\n",
       "      <td>3.35</td>\n",
       "      <td>0.80</td>\n",
       "      <td>10.5</td>\n",
       "      <td>0</td>\n",
       "    </tr>\n",
       "  </tbody>\n",
       "</table>\n",
       "</div>"
      ],
      "text/plain": [
       "   fixed_acidity  volatile_acidity  citric_acid  residual_sugar  chlorides  \\\n",
       "0            7.4              0.70         0.00             1.9      0.076   \n",
       "1            7.8              0.88         0.00             2.6      0.098   \n",
       "2            7.8              0.76         0.04             2.3      0.092   \n",
       "3           11.2              0.28         0.56             1.9      0.075   \n",
       "4            7.4              0.70         0.00             1.9      0.076   \n",
       "5            7.4              0.66         0.00             1.8      0.075   \n",
       "6            7.9              0.60         0.06             1.6      0.069   \n",
       "7            7.3              0.65         0.00             1.2      0.065   \n",
       "8            7.8              0.58         0.02             2.0      0.073   \n",
       "9            7.5              0.50         0.36             6.1      0.071   \n",
       "\n",
       "   free_sulfur_dioxide  total_sulfur_dioxide  density    pH  sulphates  \\\n",
       "0                 11.0                  34.0   0.9978  3.51       0.56   \n",
       "1                 25.0                  67.0   0.9968  3.20       0.68   \n",
       "2                 15.0                  54.0   0.9970  3.26       0.65   \n",
       "3                 17.0                  60.0   0.9980  3.16       0.58   \n",
       "4                 11.0                  34.0   0.9978  3.51       0.56   \n",
       "5                 13.0                  40.0   0.9978  3.51       0.56   \n",
       "6                 15.0                  59.0   0.9964  3.30       0.46   \n",
       "7                 15.0                  21.0   0.9946  3.39       0.47   \n",
       "8                  9.0                  18.0   0.9968  3.36       0.57   \n",
       "9                 17.0                 102.0   0.9978  3.35       0.80   \n",
       "\n",
       "   alcohol  quality  \n",
       "0      9.4        0  \n",
       "1      9.8        0  \n",
       "2      9.8        0  \n",
       "3      9.8        1  \n",
       "4      9.4        0  \n",
       "5      9.4        0  \n",
       "6      9.4        0  \n",
       "7     10.0        1  \n",
       "8      9.5        1  \n",
       "9     10.5        0  "
      ]
     },
     "execution_count": 160,
     "metadata": {},
     "output_type": "execute_result"
    }
   ],
   "source": [
    "data_class = data.copy()\n",
    "data_class[\"quality\"] = data_class[\"quality\"].replace([3, 4, 5], 0).replace([6, 7, 8], 1)\n",
    "data_class.head(10)"
   ]
  },
  {
   "cell_type": "code",
   "execution_count": 168,
   "metadata": {},
   "outputs": [
    {
     "data": {
      "text/plain": [
       "<AxesSubplot:ylabel='quality'>"
      ]
     },
     "execution_count": 168,
     "metadata": {},
     "output_type": "execute_result"
    },
    {
     "data": {
      "image/png": "[encoded data removed]",
      "text/plain": [
       "<Figure size 432x288 with 1 Axes>"
      ]
     },
     "metadata": {},
     "output_type": "display_data"
    }
   ],
   "source": [
    "data_class[\"quality\"].value_counts().plot.pie(colors=[\"green\", \"red\"])"
   ]
  },
  {
   "cell_type": "code",
   "execution_count": 180,
   "metadata": {},
   "outputs": [
    {
     "data": {
      "text/plain": [
       "<AxesSubplot:ylabel='Frequency'>"
      ]
     },
     "execution_count": 180,
     "metadata": {},
     "output_type": "execute_result"
    },
    {
     "data": {
      "image/png": "[encoded data removed]",
      "text/plain": [
       "<Figure size 864x432 with 1 Axes>"
      ]
     },
     "metadata": {
      "needs_background": "light"
     },
     "output_type": "display_data"
    }
   ],
   "source": [
    "data_class.pivot(columns=\"quality\")[\"alcohol\"].plot.hist(bins=30, stacked=True, figsize=(12, 6), color=[\"red\", \"green\"])"
   ]
  },
  {
   "attachments": {},
   "cell_type": "markdown",
   "metadata": {},
   "source": [
    "Al crescere della percentuale di alcool i vini sembrano essere di qualità maggiore"
   ]
  },
  {
   "cell_type": "code",
   "execution_count": 179,
   "metadata": {},
   "outputs": [
    {
     "data": {
      "text/plain": [
       "<AxesSubplot:ylabel='Frequency'>"
      ]
     },
     "execution_count": 179,
     "metadata": {},
     "output_type": "execute_result"
    },
    {
     "data": {
      "image/png": "[encoded data removed]",
      "text/plain": [
       "<Figure size 864x432 with 1 Axes>"
      ]
     },
     "metadata": {
      "needs_background": "light"
     },
     "output_type": "display_data"
    }
   ],
   "source": [
    "data_class.pivot(columns=\"quality\")[\"sulphates\"].plot.hist(bins=30, stacked=True, figsize=(12, 6), color=[\"red\", \"green\"])"
   ]
  },
  {
   "attachments": {},
   "cell_type": "markdown",
   "metadata": {},
   "source": [
    "I solfiti sembrano essere associati al vino buono, entro un certo range (tra 0.6 a 1.0 circa)"
   ]
  },
  {
   "cell_type": "code",
   "execution_count": 178,
   "metadata": {},
   "outputs": [
    {
     "data": {
      "text/plain": [
       "<AxesSubplot:ylabel='Frequency'>"
      ]
     },
     "execution_count": 178,
     "metadata": {},
     "output_type": "execute_result"
    },
    {
     "data": {
      "image/png": "[encoded data removed]",
      "text/plain": [
       "<Figure size 864x432 with 1 Axes>"
      ]
     },
     "metadata": {
      "needs_background": "light"
     },
     "output_type": "display_data"
    }
   ],
   "source": [
    "data_class.pivot(columns=\"quality\")[\"volatile_acidity\"].plot.hist(bins=30, stacked=True, figsize=(12, 6), color=[\"red\", \"green\"])"
   ]
  },
  {
   "attachments": {},
   "cell_type": "markdown",
   "metadata": {},
   "source": [
    "All'aumento dell'acidità volatile il vino sembra essere considerato di scarsa qualità (intuitivamente ha senso, a nessuno piace un vino dal sapore acido)"
   ]
  },
  {
   "cell_type": "code",
   "execution_count": 181,
   "metadata": {},
   "outputs": [
    {
     "data": {
      "text/plain": [
       "<AxesSubplot:ylabel='Frequency'>"
      ]
     },
     "execution_count": 181,
     "metadata": {},
     "output_type": "execute_result"
    },
    {
     "data": {
      "image/png": "[encoded data removed]",
      "text/plain": [
       "<Figure size 864x432 with 1 Axes>"
      ]
     },
     "metadata": {
      "needs_background": "light"
     },
     "output_type": "display_data"
    }
   ],
   "source": [
    "data_class.pivot(columns=\"quality\")[\"total_sulfur_dioxide\"].plot.hist(bins=30, stacked=True, figsize=(12, 6), color=[\"red\", \"green\"])"
   ]
  },
  {
   "attachments": {},
   "cell_type": "markdown",
   "metadata": {},
   "source": [
    "Anche una quantità eccessiva di anidride solforosa sembra essere associata a vini di scarsa qualità"
   ]
  },
  {
   "cell_type": "code",
   "execution_count": 182,
   "metadata": {},
   "outputs": [
    {
     "data": {
      "text/plain": [
       "<AxesSubplot:ylabel='Frequency'>"
      ]
     },
     "execution_count": 182,
     "metadata": {},
     "output_type": "execute_result"
    },
    {
     "data": {
      "image/png": "[encoded data removed]",
      "text/plain": [
       "<Figure size 864x432 with 1 Axes>"
      ]
     },
     "metadata": {
      "needs_background": "light"
     },
     "output_type": "display_data"
    }
   ],
   "source": [
    "data_class.pivot(columns=\"quality\")[\"pH\"].plot.hist(bins=30, stacked=True, figsize=(12, 6), color=[\"red\", \"green\"])"
   ]
  },
  {
   "attachments": {},
   "cell_type": "markdown",
   "metadata": {},
   "source": [
    "Il ph invece non sembra essere particolarmente rilevante ai fini della classificazione della qualità"
   ]
  },
  {
   "cell_type": "code",
   "execution_count": 183,
   "metadata": {},
   "outputs": [
    {
     "data": {
      "text/plain": [
       "<AxesSubplot:ylabel='Frequency'>"
      ]
     },
     "execution_count": 183,
     "metadata": {},
     "output_type": "execute_result"
    },
    {
     "data": {
      "image/png": "[encoded data removed]",
      "text/plain": [
       "<Figure size 864x432 with 1 Axes>"
      ]
     },
     "metadata": {
      "needs_background": "light"
     },
     "output_type": "display_data"
    }
   ],
   "source": [
    "data_class.pivot(columns=\"quality\")[\"density\"].plot.hist(bins=30, stacked=True, figsize=(12, 6), color=[\"red\", \"green\"])"
   ]
  },
  {
   "attachments": {},
   "cell_type": "markdown",
   "metadata": {},
   "source": [
    "Anche la densità non sembra avere una particolare rilevanza"
   ]
  },
  {
   "attachments": {},
   "cell_type": "markdown",
   "metadata": {},
   "source": [
    "## Classificazione con Perceptron"
   ]
  },
  {
   "cell_type": "code",
   "execution_count": 187,
   "metadata": {},
   "outputs": [],
   "source": [
    "x_train_class, x_test_class, y_train_class, y_test_class = train_test_split(\n",
    "    data_class.drop(columns=\"quality\"), data_class[\"quality\"], random_state=random_state\n",
    "    )"
   ]
  },
  {
   "cell_type": "code",
   "execution_count": 193,
   "metadata": {},
   "outputs": [
    {
     "data": {
      "text/plain": [
       "Pipeline(steps=[('scaler', StandardScaler()),\n",
       "                ('classification', Perceptron(random_state=50))])"
      ]
     },
     "execution_count": 193,
     "metadata": {},
     "output_type": "execute_result"
    }
   ],
   "source": [
    "from sklearn.linear_model import Perceptron\n",
    "from sklearn.metrics import confusion_matrix, precision_score, recall_score, f1_score\n",
    "\n",
    "perc_mdl = linear_model = Pipeline([\n",
    "    (\"scaler\", StandardScaler()), \n",
    "    (\"classification\", Perceptron(random_state=random_state)\n",
    "     )])\n",
    "\n",
    "perc_mdl.fit(x_train_class, y_train_class)"
   ]
  },
  {
   "cell_type": "code",
   "execution_count": 191,
   "metadata": {},
   "outputs": [
    {
     "data": {
      "text/plain": [
       "array([[161,  52],\n",
       "       [ 66, 121]], dtype=int64)"
      ]
     },
     "execution_count": 191,
     "metadata": {},
     "output_type": "execute_result"
    }
   ],
   "source": [
    "confusion_matrix(y_test_class, perc_mdl.predict(x_test_class))"
   ]
  },
  {
   "cell_type": "code",
   "execution_count": 195,
   "metadata": {},
   "outputs": [
    {
     "data": {
      "text/plain": [
       "0.702020202020202"
      ]
     },
     "execution_count": 195,
     "metadata": {},
     "output_type": "execute_result"
    }
   ],
   "source": [
    "f1_score(y_test_class, perc_mdl.predict(x_test_class), average=\"macro\")"
   ]
  }
 ],
 "metadata": {
  "kernelspec": {
   "display_name": "base",
   "language": "python",
   "name": "python3"
  },
  "language_info": {
   "codemirror_mode": {
    "name": "ipython",
    "version": 3
   },
   "file_extension": ".py",
   "mimetype": "text/x-python",
   "name": "python",
   "nbconvert_exporter": "python",
   "pygments_lexer": "ipython3",
   "version": "3.9.7"
  },
  "pycharm": {
   "stem_cell": {
    "cell_type": "raw",
    "metadata": {
     "collapsed": false
    },
    "source": []
   }
  }
 },
 "nbformat": 4,
 "nbformat_minor": 0
}
